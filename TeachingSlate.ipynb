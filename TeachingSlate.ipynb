{
 "cells": [
  {
   "cell_type": "code",
   "execution_count": 29,
   "id": "protective-reserve",
   "metadata": {},
   "outputs": [
    {
     "name": "stdout",
     "output_type": "stream",
     "text": [
      "loading yolo-tiny...\n",
      "starting webcam...\n"
     ]
    }
   ],
   "source": [
    "import argparse\n",
    "import cv2\n",
    "import numpy as np\n",
    "\n",
    "from yolo import YOLO\n",
    "\n",
    "\n",
    "print(\"loading yolo-tiny...\")\n",
    "yolo = YOLO(\"models/cross-hands-tiny.cfg\", \"models/cross-hands-tiny.weights\", [\"hand\"])\n",
    "\n",
    "yolo.size = int(416)\n",
    "yolo.confidence = float(0.2)\n",
    "\n",
    "print(\"starting webcam...\")\n",
    "cv2.namedWindow(\"preview\")\n",
    "vc = cv2.VideoCapture('http://192.168.0.100:4747/video')\n",
    "\n",
    "if vc.isOpened():  # try to get the first frame\n",
    "    rval, frame = vc.read()\n",
    "else:\n",
    "    rval = False\n",
    "\n",
    "while rval:\n",
    "    width, height, inference_time, results = yolo.inference(frame)\n",
    "\n",
    "    results.sort(key=lambda x: x[2])\n",
    "\n",
    "    hand_count = len(results)\n",
    "\n",
    "    grayFrame = cv2.cvtColor(frame, cv2.COLOR_BGR2GRAY)\n",
    "    dilated_img = cv2.dilate(grayFrame, np.ones((3,3), np.uint8))\n",
    "    bg_img = cv2.medianBlur(dilated_img, 21)\n",
    "\n",
    "    _, thr_img = cv2.threshold(255 - cv2.absdiff(grayFrame, bg_img), 230, 0, cv2.THRESH_TRUNC)\n",
    "    \n",
    "    cv2.normalize(thr_img, thr_img, alpha=0, beta=255, norm_type=cv2.NORM_MINMAX, dtype=cv2.CV_8UC1)\n",
    "    \n",
    "    for detection in results[:hand_count]:\n",
    "        id, name, confidence, x, y, w, h = detection\n",
    "        cx = x + (w / 2)\n",
    "        cy = y + (h / 2)\n",
    "\n",
    "        color = (255, 255, 255)\n",
    "        cv2.rectangle(thr_img, (x, y), (x + w, y + h), (255, 255, 255), -1)\n",
    "    \n",
    "    diff_img = cv2.resize(thr_img, (1080,640), interpolation = cv2.INTER_CUBIC)\n",
    "    \n",
    "    _,diff_img = cv2.threshold(diff_img,235,255,cv2.THRESH_TOZERO_INV)\n",
    "    \n",
    "    cv2.imshow(\"preview\", diff_img)\n",
    "\n",
    "    rval, frame = vc.read()\n",
    "\n",
    "    key = cv2.waitKey(20)\n",
    "    if key == 27:  # exit on ESC\n",
    "        break\n",
    "\n",
    "cv2.destroyWindow(\"preview\")\n",
    "vc.release()\n"
   ]
  }
 ],
 "metadata": {
  "kernelspec": {
   "display_name": "Python 3",
   "language": "python",
   "name": "python3"
  },
  "language_info": {
   "codemirror_mode": {
    "name": "ipython",
    "version": 3
   },
   "file_extension": ".py",
   "mimetype": "text/x-python",
   "name": "python",
   "nbconvert_exporter": "python",
   "pygments_lexer": "ipython3",
   "version": "3.8.5"
  }
 },
 "nbformat": 4,
 "nbformat_minor": 5
}
